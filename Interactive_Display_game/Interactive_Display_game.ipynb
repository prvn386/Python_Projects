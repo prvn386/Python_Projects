{
 "cells": [
  {
   "cell_type": "code",
   "execution_count": 1,
   "metadata": {},
   "outputs": [],
   "source": [
    "# Define game_list\n",
    "game_list = [0,1,2]"
   ]
  },
  {
   "cell_type": "code",
   "execution_count": 2,
   "metadata": {},
   "outputs": [],
   "source": [
    "def display_game(game_list):\n",
    "    print (\"Here is the current list:\")\n",
    "    print(game_list)"
   ]
  },
  {
   "cell_type": "code",
   "execution_count": 3,
   "metadata": {},
   "outputs": [
    {
     "name": "stdout",
     "output_type": "stream",
     "text": [
      "Here is the current list:\n",
      "[0, 1, 2]\n"
     ]
    }
   ],
   "source": [
    "display_game(game_list)"
   ]
  },
  {
   "cell_type": "code",
   "execution_count": 4,
   "metadata": {},
   "outputs": [],
   "source": [
    "def position_choice():\n",
    "    \n",
    "    choice = 'W'\n",
    "    while choice not in ['0','1','2']:\n",
    "        \n",
    "        choice = input(\"Pick up a position(0,1,2):\")\n",
    "        \n",
    "        if choice not in ['0','1','2']:\n",
    "            print (\"Sorry invalid choice\")\n",
    "            \n",
    "    return int(choice)"
   ]
  },
  {
   "cell_type": "code",
   "execution_count": 5,
   "metadata": {},
   "outputs": [
    {
     "name": "stdout",
     "output_type": "stream",
     "text": [
      "Pick up a position(0,1,2):0\n"
     ]
    },
    {
     "data": {
      "text/plain": [
       "0"
      ]
     },
     "execution_count": 5,
     "metadata": {},
     "output_type": "execute_result"
    }
   ],
   "source": [
    "position_choice()"
   ]
  },
  {
   "cell_type": "code",
   "execution_count": 10,
   "metadata": {},
   "outputs": [],
   "source": [
    "def replacement_choice (game_list,position):\n",
    "    \n",
    "    user_placement = input(\"Type a string to place at position:\")\n",
    "    \n",
    "    game_list[position] = user_placement\n",
    "    \n",
    "    return game_list"
   ]
  },
  {
   "cell_type": "code",
   "execution_count": 11,
   "metadata": {},
   "outputs": [
    {
     "name": "stdout",
     "output_type": "stream",
     "text": [
      "Type a string to place at position:worked\n"
     ]
    },
    {
     "data": {
      "text/plain": [
       "[0, 'worked', 2]"
      ]
     },
     "execution_count": 11,
     "metadata": {},
     "output_type": "execute_result"
    }
   ],
   "source": [
    "replacement_choice(game_list,1)"
   ]
  },
  {
   "cell_type": "code",
   "execution_count": 12,
   "metadata": {},
   "outputs": [],
   "source": [
    "def gameon_choice():\n",
    "    \n",
    "    choice = 'Wrong'\n",
    "    while choice not in ['Y','N']:\n",
    "        \n",
    "        choice = input(\"Keep playing (Y or N):\")\n",
    "        \n",
    "        if choice not in ['Y','N']:\n",
    "            print (\"Sorry, I dont understand , please choose Y or N\")\n",
    "    \n",
    "    if choice== 'Y':\n",
    "        return True\n",
    "    else:\n",
    "        return False"
   ]
  },
  {
   "cell_type": "code",
   "execution_count": 13,
   "metadata": {},
   "outputs": [
    {
     "name": "stdout",
     "output_type": "stream",
     "text": [
      "Keep playing (Y or N):g\n",
      "Sorry, I dont understand , please choose Y or N\n",
      "Keep playing (Y or N):Y\n"
     ]
    },
    {
     "data": {
      "text/plain": [
       "True"
      ]
     },
     "execution_count": 13,
     "metadata": {},
     "output_type": "execute_result"
    }
   ],
   "source": [
    "gameon_choice()"
   ]
  },
  {
   "cell_type": "code",
   "execution_count": 16,
   "metadata": {},
   "outputs": [
    {
     "name": "stdout",
     "output_type": "stream",
     "text": [
      "Here is the current list:\n",
      "[0, 1, 2]\n",
      "Pick up a position(0,1,2):3\n",
      "Sorry invalid choice\n",
      "Pick up a position(0,1,2):2\n",
      "Type a string to place at position:worked\n",
      "Here is the current list:\n",
      "[0, 1, 'worked']\n",
      "Keep playing (Y or N):Y\n",
      "Here is the current list:\n",
      "[0, 1, 'worked']\n",
      "Pick up a position(0,1,2):0\n",
      "Type a string to place at position:Display\n",
      "Here is the current list:\n",
      "['Display', 1, 'worked']\n",
      "Keep playing (Y or N):Y\n",
      "Here is the current list:\n",
      "['Display', 1, 'worked']\n",
      "Pick up a position(0,1,2):1\n",
      "Type a string to place at position:Game\n",
      "Here is the current list:\n",
      "['Display', 'Game', 'worked']\n",
      "Keep playing (Y or N):N\n"
     ]
    }
   ],
   "source": [
    "game_on = True\n",
    "game_list = [0,1,2]\n",
    "\n",
    "while game_on:\n",
    "    \n",
    "    display_game(game_list)\n",
    "    \n",
    "    position  = position_choice()\n",
    "    \n",
    "    game_list = replacement_choice(game_list,position)\n",
    "    \n",
    "    display_game(game_list)\n",
    "    \n",
    "    game_on = gameon_choice()"
   ]
  },
  {
   "cell_type": "markdown",
   "metadata": {},
   "source": [
    "# Display Game Successfull"
   ]
  },
  {
   "cell_type": "code",
   "execution_count": null,
   "metadata": {},
   "outputs": [],
   "source": []
  }
 ],
 "metadata": {
  "kernelspec": {
   "display_name": "Python 3",
   "language": "python",
   "name": "python3"
  },
  "language_info": {
   "codemirror_mode": {
    "name": "ipython",
    "version": 3
   },
   "file_extension": ".py",
   "mimetype": "text/x-python",
   "name": "python",
   "nbconvert_exporter": "python",
   "pygments_lexer": "ipython3",
   "version": "3.7.4"
  }
 },
 "nbformat": 4,
 "nbformat_minor": 2
}
